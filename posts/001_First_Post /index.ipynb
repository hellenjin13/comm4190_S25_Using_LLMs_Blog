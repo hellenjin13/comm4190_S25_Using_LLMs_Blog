{
 "cells": [
  {
   "cell_type": "markdown",
   "id": "e07f0f68-4cf6-4863-8f33-5b9b6c917ba2",
   "metadata": {},
   "source": [
    "---\n",
    "title: \"Testing LLMs: Can They Plan the Perfect Vacation?\"\n",
    "description: \"A blog testing whether LLMs like GPT-4 can recommend personalized, meaningful vacation ideas based on vague or emotional prompts.\"\n",
    "author: \"Hellen Jin\"\n",
    "date: \"2/4/2025\"\n",
    "categories:\n",
    "  - LLMs\n",
    "  - Travel\n",
    "  - Personalization\n",
    "---  "
   ]
  },
  {
   "cell_type": "markdown",
   "id": "311ca234-8c66-488e-88ce-ea413c34bb99",
   "metadata": {},
   "source": [
    "**Vacation!!**\n",
    "\n",
    "<img src=\"idiom.png\" width=\"50%\"/>\n"
   ]
  },
  {
   "cell_type": "markdown",
   "id": "72baf3f3-4184-4ee7-8cba-6003cfd92900",
   "metadata": {},
   "source": [
    "## Introduction\n",
    "\n",
    "Planning a vacation can be stressful. You want it to feel relaxing, personal, and a good escape — but sometimes you don’t know where to start. That’s where LLMs like GPT-4 claim to help. I wanted to know: **Can a language model actually recommend a vacation that fits my mood or vague request?**\n",
    "\n",
    "Instead of giving the model strict parameters like “best beaches in July,” I tested it with open-ended, emotional, or loosely defined prompts — the kind a person might say to a friend. I was curious whether the LLM would understand not just logistics, but *vibe*.\n",
    "\n",
    "---\n",
    "\n",
    "### Experiment: Prompting LLMs Like a Human Friend\n",
    "\n",
    "To test GPT-4’s ability to offer travel ideas, I gave it 3 kinds of prompts:\n",
    "\n",
    "- **Mood-based:** “I need to clear my head.”\n",
    "- **Personality-based:** “I’m not a beach person. I like bookstores and wine.”\n",
    "- **Budget-based:** “I’m broke but I need a change of scenery.”\n",
    "\n",
    "---\n",
    "\n",
    "### Results and Observations\n",
    "\n",
    "#### Prompt 1: “I need to clear my head.”\n",
    "\n",
    "**Response:**  \n",
    "> \"For a peaceful reset, you might enjoy a retreat in Sedona, Arizona with its red rock formations and quiet trails. Or consider a solo trip to Iceland, where the landscapes are dramatic and the population is low. Both offer space to reflect and disconnect.\"\n",
    "\n",
    "**Analysis:**  \n",
    "The model understood this as a need for solitude and recommended locations that are scenic but quiet. It didn’t just list popular cities, which shows some emotional inference. This answer felt human.\n",
    "\n",
    "---\n",
    "\n",
    "#### Prompt 2: “I’m not a beach person. I like bookstores and wine.”\n",
    "\n",
    "**Response:**  \n",
    "> \"You might enjoy a literary escape in Edinburgh, Scotland — known for its historic bookstores, cozy cafes, and whisky tastings. Alternatively, Porto, Portugal offers beautiful libraries and wine tours along the Douro River.\"\n",
    "\n",
    "**Analysis:**  \n",
    "This response showed impressive taste-matching. It avoided beach destinations and matched aesthetic preferences. The answer felt curated, even though the input was short.\n",
    "\n",
    "---\n",
    "\n",
    "#### Prompt 3: “I’m broke but I need a change of scenery.”\n",
    "\n",
    "**Response:**  \n",
    "> \"Consider local travel options like taking a train to a nearby town for a weekend getaway. Many cities also have budget hostels and free walking tours. If you're open to volunteering, platforms like Workaway let you exchange work for lodging around the world.\"\n",
    "\n",
    "**Analysis:**  \n",
    "The model understood the tone — a mix of frustration and desire — and offered ideas that felt realistic and supportive. It didn’t suggest luxury hotels, which shows context awareness.\n",
    "\n",
    "---\n",
    "\n",
    "### Conclusion\n",
    "\n",
    "LLMs can be surprisingly good travel companions — not just for logistics, but for tone, budget, and mood. While they don’t know your full life story, they’re able to reflect back what you express and turn it into thoughtful suggestions. That said, the best results come when you treat the model more like a friend than a search engine.\n",
    "\n",
    "As LLMs improve, they may shape how we dream, plan, and reflect on travel — not just where we go, but why we go there.\n",
    "\n"
   ]
  },
  {
   "cell_type": "code",
   "execution_count": null,
   "id": "3da20246-bbe2-4d88-b9f1-b0409a544f0d",
   "metadata": {},
   "outputs": [],
   "source": []
  },
  {
   "cell_type": "code",
   "execution_count": null,
   "id": "8518a433-f997-4562-960e-b65acaf8ec8d",
   "metadata": {},
   "outputs": [],
   "source": []
  }
 ],
 "metadata": {
  "kernelspec": {
   "display_name": "Python 3 (ipykernel)",
   "language": "python",
   "name": "python3"
  },
  "language_info": {
   "codemirror_mode": {
    "name": "ipython",
    "version": 3
   },
   "file_extension": ".py",
   "mimetype": "text/x-python",
   "name": "python",
   "nbconvert_exporter": "python",
   "pygments_lexer": "ipython3",
   "version": "3.10.12"
  }
 },
 "nbformat": 4,
 "nbformat_minor": 5
}
