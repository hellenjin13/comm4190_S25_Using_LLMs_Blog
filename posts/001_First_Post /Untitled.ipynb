{
 "cells": [
  {
   "cell_type": "code",
   "execution_count": 1,
   "id": "c86e6d93-9f9f-4fbc-a559-c0d4f251cb5b",
   "metadata": {},
   "outputs": [
    {
     "ename": "SyntaxError",
     "evalue": "invalid syntax (858787832.py, line 1)",
     "output_type": "error",
     "traceback": [
      "\u001b[0;36m  Cell \u001b[0;32mIn[1], line 1\u001b[0;36m\u001b[0m\n\u001b[0;31m    ---\u001b[0m\n\u001b[0m       ^\u001b[0m\n\u001b[0;31mSyntaxError\u001b[0m\u001b[0;31m:\u001b[0m invalid syntax\n"
     ]
    }
   ],
   "source": []
  },
  {
   "cell_type": "raw",
   "id": "6252fb87-6dea-4dc6-9914-95739089e5fd",
   "metadata": {},
   "source": [
    "---\n",
    "title: \"Testing LLMs: Can They Really Understand Idioms?\"\n",
    "description: \"A blog about the experiments I will be doing with the LLM to see if they can undertsand idioms like humans do\"\n",
    "author: \"Hellen Jin\"\n",
    "date: \"2/4/2024\"\n",
    "categories:\n",
    "  - LLMs\n",
    "  - Figurative Language \n",
    "---"
   ]
  },
  {
   "cell_type": "code",
   "execution_count": null,
   "id": "9b41c501-0e76-4b75-8111-3e3cb9d2fb41",
   "metadata": {},
   "outputs": [],
   "source": []
  },
  {
   "cell_type": "code",
   "execution_count": null,
   "id": "542d1405-ee3f-41fa-a912-767e5d7c2eff",
   "metadata": {},
   "outputs": [],
   "source": []
  }
 ],
 "metadata": {
  "kernelspec": {
   "display_name": "Python 3 (ipykernel)",
   "language": "python",
   "name": "python3"
  },
  "language_info": {
   "codemirror_mode": {
    "name": "ipython",
    "version": 3
   },
   "file_extension": ".py",
   "mimetype": "text/x-python",
   "name": "python",
   "nbconvert_exporter": "python",
   "pygments_lexer": "ipython3",
   "version": "3.10.12"
  }
 },
 "nbformat": 4,
 "nbformat_minor": 5
}
