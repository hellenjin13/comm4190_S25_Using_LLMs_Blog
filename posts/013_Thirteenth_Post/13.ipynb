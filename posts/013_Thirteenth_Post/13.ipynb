{
 "cells": [
  {
   "cell_type": "raw",
   "id": "3ae06e7c-7492-4b92-a843-d59aa5ad6a06",
   "metadata": {},
   "source": [
    "---\n",
    "title: \"Testing LLMs: Can They Guess Your Zodiac Sign?\"\n",
    "description: \"A blog exploring whether LLMs like GPT4 can correctly match personality traits to zodiac signs the way astrology fans do.\"\n",
    "author: \"Hellen Jin\"\n",
    "date: \"4/10/2025\"\n",
    "categories:\n",
    "  - LLMs\n",
    "  - Astrology\n",
    "  - Personality\n",
    "---"
   ]
  },
  {
   "cell_type": "markdown",
   "id": "9491e055-bf93-41fe-ba21-daf11ba51d56",
   "metadata": {},
   "source": [
    "<img src=\"cwg.png\" width=\"50%\"/>\n",
    "\n",
    "## Introduction\n",
    "\n",
    "Zodiac signs are not just about birthdates. A lot of people believe your sign shows up in your personality, your habits, and how you handle stress. I wanted to see if GPT4 could play the guessing game — could it figure out someone’s zodiac sign just based on traits and behavior? Could it explain why a certain sign might act a certain way?\n",
    "\n",
    "To test this, I gave the model made up personality descriptions and asked it to guess the sign or explain which signs might relate the most.\n",
    "\n",
    "## Experiment: Prompting GPT4 with Personality Clues\n",
    "\n",
    "I gave the model three different descriptions like this\n",
    "\n",
    "“She is super organized, hates being late, and always edits her group’s work twice”  \n",
    "“He is loyal, chill on the outside, but lowkey emotional and hates change”  \n",
    "“They are loud, competitive, and somehow always end up leading the group project even if they did not mean to”\n",
    "\n",
    "## Prompt 1: “She is super organized, hates being late, and always edits her group’s work twice”\n",
    "\n",
    "**Response:**  \n",
    "This person sounds like a Virgo. Virgos are known for their attention to detail, structure, and strong work ethic. They often take on extra tasks because they want everything done correctly. Their perfectionism can be both a strength and a stressor.\n",
    "\n",
    "**Analysis:**  \n",
    "This was a spot on match. The model explained why Virgo fits the personality and tied it to known traits. It avoided stereotypes and offered a calm, accurate summary. This felt like something an actual astrology reader might say.\n",
    "\n",
    "## Prompt 2: “He is loyal, chill on the outside, but lowkey emotional and hates change”\n",
    "\n",
    "**Response:**  \n",
    "This sounds like a Taurus. Taurus people are steady, loyal, and deeply attached to routine. They may not show their emotions easily, but they feel things deeply and value comfort and consistency.\n",
    "\n",
    "**Analysis:**  \n",
    "Again, the answer was strong. The model picked a sign that fits the emotional and behavioral clues without over explaining. It also showed empathy in how it described the emotional depth of Taurus types.\n",
    "\n",
    "## Prompt 3: “They are loud, competitive, and somehow always end up leading the group project even if they did not mean to”\n",
    "\n",
    "**Response:**  \n",
    "This could be an Aries or a Leo. Aries tends to lead without trying and loves a challenge. Leo enjoys attention but also steps up to guide others. Both signs are confident and driven, even when they do not plan to be.\n",
    "\n",
    "**Analysis:**  \n",
    "This answer showed flexibility. It did not try to force a single sign and instead offered two that fit in different ways. It also gave a balanced explanation of each one. This showed that GPT4 can do more than just guess — it can reason through personality signs the way people who follow astrology often do.\n",
    "\n",
    "## Conclusion\n",
    "\n",
    "GPT4 is surprisingly good at matching personality descriptions to zodiac signs. It does not just throw out names. It explains the logic behind the match and stays true to the tone of astrology content. Whether you believe in the stars or just think zodiac signs are fun, GPT4 can definitely hold its own in a personality guessing game."
   ]
  },
  {
   "cell_type": "code",
   "execution_count": null,
   "id": "3c884862-c73f-48da-b589-608b9006c843",
   "metadata": {},
   "outputs": [],
   "source": []
  }
 ],
 "metadata": {
  "kernelspec": {
   "display_name": "Python 3 (ipykernel)",
   "language": "python",
   "name": "python3"
  },
  "language_info": {
   "codemirror_mode": {
    "name": "ipython",
    "version": 3
   },
   "file_extension": ".py",
   "mimetype": "text/x-python",
   "name": "python",
   "nbconvert_exporter": "python",
   "pygments_lexer": "ipython3",
   "version": "3.10.12"
  }
 },
 "nbformat": 4,
 "nbformat_minor": 5
}
