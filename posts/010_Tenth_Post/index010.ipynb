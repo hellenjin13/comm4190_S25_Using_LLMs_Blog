{
 "cells": [
  {
   "cell_type": "raw",
   "id": "94a038cd-f860-4941-9a41-9e3d4c834b96",
   "metadata": {},
   "source": [
    "---\n",
    "title: \"Testing LLMs: Can They Be Trusted with Traffic Laws?\"\n",
    "description: \"A blog exploring whether LLMs like GPT4 can reliably answer questions about driving rules and traffic laws in different places.\"\n",
    "author: \"Hellen Jin\"\n",
    "date: \"3/26/2025\"\n",
    "categories:\n",
    "  - LLMs\n",
    "  - Law\n",
    "  - Daily Life\n",
    "---"
   ]
  },
  {
   "cell_type": "markdown",
   "id": "0a1ef913-a5cf-4835-a792-c62c94072813",
   "metadata": {},
   "source": [
    "<img src=\"laws.png\" width=\"50%\"/>\n",
    "\n",
    "## Introduction\n",
    "\n",
    "Knowing the rules of the road is important whether you are driving in your hometown or renting a car abroad. I wanted to see if GPT4 could be trusted to explain traffic laws and driving behavior. Could it give the right advice for turning on red or explain when you need an international license? Or would it get the details wrong and possibly lead to mistakes?\n",
    "\n",
    "To test this, I gave the model a few common driving questions that someone might ask before or during a trip.\n",
    "\n",
    "## Experiment: Asking GPT4 About Driving Rules\n",
    "\n",
    "I asked the model the following three prompts\n",
    "\n",
    "“Can I turn right on red in France”  \n",
    "“Do I need an international driver’s permit to rent a car in Japan”  \n",
    "“What do yellow lines on the road mean in the US”\n",
    "\n",
    "## Prompt 1: “Can I turn right on red in France”\n",
    "\n",
    "**Response:**  \n",
    "No, turning right on red is generally not allowed in France unless there is a specific sign or flashing amber arrow that permits it. Drivers should always stop and follow standard traffic signals unless otherwise indicated.\n",
    "\n",
    "**Analysis:**  \n",
    "This was correct. The model gave a clear answer and included the one exception that exists. It did not generalize based on American rules and showed awareness of different national laws.\n",
    "\n",
    "## Prompt 2: “Do I need an international driver’s permit to rent a car in Japan”\n",
    "\n",
    "**Response:**  \n",
    "Yes, most visitors to Japan will need an international driving permit in addition to a valid license from their home country. The permit should be based on the 1949 Geneva Convention. Some countries have agreements with Japan but travelers should check before arriving.\n",
    "\n",
    "**Analysis:**  \n",
    "This answer was accurate and included helpful context. It also flagged a key detail that many people miss. The fact that it mentioned the Geneva Convention shows that GPT4 has been trained on detailed legal language and travel information.\n",
    "\n",
    "## Prompt 3: “What do yellow lines on the road mean in the US”\n",
    "\n",
    "**Response:**  \n",
    "Yellow lines separate traffic moving in opposite directions. A solid yellow line means no passing is allowed while a dashed yellow line means passing is allowed when it is safe. Two solid yellow lines mean no passing for traffic in either direction.\n",
    "\n",
    "**Analysis:**  \n",
    "This was a textbook correct answer. It covered the most common markings without confusion. It was also brief and easy to understand, which is important for people who might be learning the rules quickly.\n",
    "\n",
    "## Conclusion\n",
    "\n",
    "GPT4 can be surprisingly reliable when it comes to basic traffic laws. It handles rules that vary by country and explains them clearly. Still, it is important to double check with an official government source if you are driving somewhere new. LLMs are good for quick answers and context, but they should not be your only source when it comes to safety or legality on the road."
   ]
  },
  {
   "cell_type": "code",
   "execution_count": null,
   "id": "2b4831a1-0784-4c59-9146-56dda79a78c6",
   "metadata": {},
   "outputs": [],
   "source": []
  }
 ],
 "metadata": {
  "kernelspec": {
   "display_name": "Python 3 (ipykernel)",
   "language": "python",
   "name": "python3"
  },
  "language_info": {
   "codemirror_mode": {
    "name": "ipython",
    "version": 3
   },
   "file_extension": ".py",
   "mimetype": "text/x-python",
   "name": "python",
   "nbconvert_exporter": "python",
   "pygments_lexer": "ipython3",
   "version": "3.10.12"
  }
 },
 "nbformat": 4,
 "nbformat_minor": 5
}
