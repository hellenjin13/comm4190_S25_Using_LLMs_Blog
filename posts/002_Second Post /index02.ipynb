{
 "cells": [
  {
   "cell_type": "raw",
   "id": "361c2055-6280-48cc-98f0-364f677ec9a1",
   "metadata": {},
   "source": [
    "---\n",
    "title: \"Testing LLMs: Can They Recommend the Best Place to Shop?\"\n",
    "description: \"A blog exploring whether LLMs can understand personal shopping needs and recommend the best places to go — from luxury malls to hidden local gems.\"\n",
    "author: \"Hellen Jin\"\n",
    "date: \"3/3/2024\"\n",
    "categories:\n",
    "  - LLMs\n",
    "  - Travel\n",
    "  - Shopping\n",
    "---  "
   ]
  },
  {
   "cell_type": "markdown",
   "id": "193474bd-8ae7-43ce-a76b-18a59dee103d",
   "metadata": {},
   "source": [
    "<img src=\"brands.png\" width=\"50%\"/>\n",
    "\n",
    "## Introduction\n",
    "\n",
    "Everyone shops, but we don’t all shop the same way. Some people want designer boutiques. Others look for vintage finds, open-air markets, or budget deals. I wanted to test how well an LLM could help me pick the best place to shop — not just in general, but based on vibe, budget, and style. Could it tailor its answer like a friend would?\n",
    "\n",
    "Instead of asking for a list of malls, I gave GPT-4 more open-ended prompts, the way you might text a friend before a trip.\n",
    "\n",
    "## Experiment: Shopping Prompts with Style\n",
    "\n",
    "I tested three different prompts:\n",
    "\n",
    "- “I want to shop like a rich tourist.”\n",
    "- “I like markets, thrift stores, and handmade stuff.”\n",
    "- “I need clothes but I’m broke and in a new city.”\n",
    "\n",
    "## Prompt 1: “I want to shop like a rich tourist.”\n",
    "\n",
    "**Response:**  \n",
    "“If you’re looking for high-end shopping, consider the Ginza district in Tokyo, which offers luxury flagship stores and department stores like Mitsukoshi and Wako. Paris's Avenue Montaigne and Dubai Mall are also top-tier destinations for designer shopping.”\n",
    "\n",
    "**Analysis:**  \n",
    "The model responded with globally known luxury hubs. It understood the tone — aspirational and indulgent — and suggested locations that reflect wealth and exclusivity. It was helpful, but safe. A little more personalization (like hidden designer consignment spots) would make it feel more curated.\n",
    "\n",
    "## Prompt 2: “I like markets, thrift stores, and handmade stuff.”\n",
    "\n",
    "**Response:**  \n",
    "“You might enjoy shopping in Chiang Mai’s Sunday Walking Street Market in Thailand or browsing secondhand stores in Copenhagen’s Nørrebro district. For handmade crafts, Oaxaca in Mexico has a rich tradition of artisan goods including pottery, textiles, and jewelry.”\n",
    "\n",
    "**Analysis:**  \n",
    "This answer had real personality. It listed places that fit a traveler looking for creativity and authenticity, not just price. GPT-4 picked up on aesthetic preferences and offered culturally relevant locations that weren’t on every travel blog’s front page.\n",
    "\n",
    "## Prompt 3: “I need clothes but I’m broke and in a new city.”\n",
    "\n",
    "**Response:**  \n",
    "“Look for chain thrift stores like Goodwill or Value Village if you’re in the US or Canada. In many cities, local Facebook groups or apps like Vinted and Depop are popular for secondhand fashion. Some student areas have budget clothing markets or swap events.”\n",
    "\n",
    "**Analysis:**  \n",
    "This answer was practical and showed awareness of how real people solve everyday problems. It didn’t assume the user was traveling and gave ideas that apply locally and online. It also subtly accounted for cost, context, and effort — a sign that GPT-4 can interpret tone well.\n",
    "\n",
    "## Conclusion\n",
    "\n",
    "When it comes to shopping, GPT-4 can do more than suggest a famous mall. It tailors advice based on tone, budget, and personality — if the prompt is clear. While it lacks the personal stories or insider tips a friend might share, its suggestions feel thoughtful and globally aware. For planning your next retail adventure, it’s not a bad companion."
   ]
  },
  {
   "cell_type": "markdown",
   "id": "a25e6736-347b-4859-b24a-91a5e92fe641",
   "metadata": {},
   "source": [
    "\n"
   ]
  },
  {
   "cell_type": "code",
   "execution_count": null,
   "id": "ce6e1df0-0d0b-4094-832d-9aac33510738",
   "metadata": {},
   "outputs": [],
   "source": []
  },
  {
   "cell_type": "code",
   "execution_count": null,
   "id": "c1253148-10ad-459a-b2ed-8f97ea229e15",
   "metadata": {},
   "outputs": [],
   "source": []
  },
  {
   "cell_type": "code",
   "execution_count": null,
   "id": "22397937-0867-459d-9728-632c3891f9d1",
   "metadata": {},
   "outputs": [],
   "source": []
  }
 ],
 "metadata": {
  "kernelspec": {
   "display_name": "Python 3 (ipykernel)",
   "language": "python",
   "name": "python3"
  },
  "language_info": {
   "codemirror_mode": {
    "name": "ipython",
    "version": 3
   },
   "file_extension": ".py",
   "mimetype": "text/x-python",
   "name": "python",
   "nbconvert_exporter": "python",
   "pygments_lexer": "ipython3",
   "version": "3.10.12"
  }
 },
 "nbformat": 4,
 "nbformat_minor": 5
}
