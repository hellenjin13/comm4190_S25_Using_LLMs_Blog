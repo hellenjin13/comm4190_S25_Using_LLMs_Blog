{
 "cells": [
  {
   "cell_type": "raw",
   "id": "4b75466d-aa7b-42c7-b96b-706fe5ebfb2e",
   "metadata": {},
   "source": [
    "---\n",
    "title: \"Testing LLMs: Can They Give Zodiac Compatibility Advice?\"\n",
    "description: \"A blog exploring whether GPT4 can give thoughtful and believable romantic compatibility advice based on zodiac signs.\"\n",
    "author: \"Hellen Jin\"\n",
    "date: \"4/15/2025\"\n",
    "categories:\n",
    "  - LLMs\n",
    "  - Astrology\n",
    "  - Relationships\n",
    "---"
   ]
  },
  {
   "cell_type": "markdown",
   "id": "8e816b3a-5ce3-452b-bc50-35da657bb58f",
   "metadata": {},
   "source": [
    "<img src=\"romance.png\" width=\"50%\"/>\n",
    "\n",
    "## Introduction\n",
    "\n",
    "Zodiac compatibility is one of the most popular parts of astrology. Whether or not people take it seriously, many still ask things like Should I date a Scorpio or What signs are best for me? I wanted to see if GPT4 could give realistic and emotionally smart advice based on zodiac pairings. Could it explain why certain signs click or clash in relationships?\n",
    "\n",
    "To find out, I gave the model some common pairings and asked for quick love advice. I looked for answers that felt balanced, non judgmental, and true to how astrology fans usually talk about romance.\n",
    "\n",
    "## Experiment: Prompting GPT4 for Relationship Insights\n",
    "\n",
    "I asked the model about these three classic matchups\n",
    "\n",
    "“Are Cancer and Capricorn compatible in a relationship”  \n",
    "“Can two Leos date each other without clashing”  \n",
    "“What is the vibe of a Pisces and Scorpio couple”\n",
    "\n",
    "## Prompt 1: “Are Cancer and Capricorn compatible in a relationship”\n",
    "\n",
    "**Response:**  \n",
    "Cancer and Capricorn are considered opposites in the zodiac, but that can create a strong balance. Cancer brings emotional warmth while Capricorn offers structure and long term thinking. If both people respect each other’s differences, this can be a stable and supportive match. Cancer teaches Capricorn to open up, and Capricorn gives Cancer a sense of safety.\n",
    "\n",
    "**Analysis:**  \n",
    "This answer hit all the right notes. It gave a clear view of each sign’s role and emphasized communication. It was hopeful but not overly idealized, which made it feel grounded and helpful.\n",
    "\n",
    "## Prompt 2: “Can two Leos date each other without clashing”\n",
    "\n",
    "**Response:**  \n",
    "Two Leos in love can be fiery, passionate, and full of drama. Both crave attention and recognition, so the key is learning to take turns in the spotlight. If each person feels appreciated, this can be a power couple. But if egos get in the way, conflict can grow fast.\n",
    "\n",
    "**Analysis:**  \n",
    "This felt like classic Leo talk. The model gave practical advice while still celebrating the big personality energy. It showed that GPT4 understands the emotional dynamics behind signs, not just surface traits.\n",
    "\n",
    "## Prompt 3: “What is the vibe of a Pisces and Scorpio couple”\n",
    "\n",
    "**Response:**  \n",
    "Pisces and Scorpio are both water signs, which means they connect on a deep emotional level. This couple often feels intuitive, like they can sense what the other person needs. Pisces brings softness and imagination, while Scorpio adds intensity and loyalty. Together, they form a romantic and almost dreamlike bond.\n",
    "\n",
    "**Analysis:**  \n",
    "This was the most poetic answer and also the most emotionally rich. It sounded like something you would see in a zodiac compatibility chart or love reading. The tone felt accurate for a Pisces and Scorpio pairing.\n",
    "\n",
    "## Conclusion\n",
    "\n",
    "GPT4 can give romantic compatibility advice that feels genuine, balanced, and emotionally aware. It does not just list traits. It reflects on how those traits interact in a relationship and offers advice that sounds close to what real astrology fans would say. Whether you are just curious or fully into zodiac love charts, the model knows how to talk about love in a way that feels personal."
   ]
  },
  {
   "cell_type": "code",
   "execution_count": null,
   "id": "e0fc650d-ab22-4022-8730-32d40baf46d5",
   "metadata": {},
   "outputs": [],
   "source": []
  }
 ],
 "metadata": {
  "kernelspec": {
   "display_name": "Python 3 (ipykernel)",
   "language": "python",
   "name": "python3"
  },
  "language_info": {
   "codemirror_mode": {
    "name": "ipython",
    "version": 3
   },
   "file_extension": ".py",
   "mimetype": "text/x-python",
   "name": "python",
   "nbconvert_exporter": "python",
   "pygments_lexer": "ipython3",
   "version": "3.10.12"
  }
 },
 "nbformat": 4,
 "nbformat_minor": 5
}
