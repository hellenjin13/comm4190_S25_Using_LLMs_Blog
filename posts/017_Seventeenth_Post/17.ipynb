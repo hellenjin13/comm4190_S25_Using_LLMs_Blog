{
 "cells": [
  {
   "cell_type": "raw",
   "id": "ab67e67e-3867-4bd3-94fb-4c0b53d4c0a1",
   "metadata": {},
   "source": [
    "---\n",
    "title: \"Testing LLMs: Can They Respect Pronouns and Gender Identity?\"\n",
    "description: \"A blog exploring how GPT4 responds to prompts about gender identity, pronouns, and inclusive language.\"\n",
    "author: \"Hellen Jin\"\n",
    "date: \"4/24/2025\"\n",
    "categories:\n",
    "  - LLMs\n",
    "  - Gender\n",
    "  - Language\n",
    "---"
   ]
  },
  {
   "cell_type": "markdown",
   "id": "a9f53c0c-3a22-4478-b569-ed233e95ee51",
   "metadata": {},
   "source": [
    "<img src=\"pronouns.png\" width=\"50%\"/>\n",
    "\n",
    "## Introduction\n",
    "\n",
    "Pronouns and gender identity are personal, and how someone talks about them matters. With more people sharing their pronouns and using nonbinary or fluid identities, it is important that language tools like GPT4 can respond with respect and accuracy. I wanted to test how the model handles this kind of language — whether it makes assumptions or uses inclusive responses that feel affirming and thoughtful.\n",
    "\n",
    "I asked a few common questions that people might use to learn or express identity. I looked at how specific and supportive the responses were, and whether the model avoided missteps like defaulting to binary language.\n",
    "\n",
    "## Experiment: Prompts About Pronouns and Identity\n",
    "\n",
    "Here are the three prompts I tested\n",
    "\n",
    "“What are neopronouns and how do I use them”  \n",
    "“Can you write a short introduction where someone uses they them pronouns”  \n",
    "“What should I do if I do not know someone’s gender”\n",
    "\n",
    "## Prompt 1: “What are neopronouns and how do I use them”\n",
    "\n",
    "**Response:**  \n",
    "Neopronouns are gender neutral pronouns that go beyond they or them. Examples include xe xyr, ze zir, or fae faer. People who use these pronouns often do so to better reflect their identity. To use them, treat them like any other pronoun. For example, Xe went to the store. I saw xyr later. It is always best to ask someone how to pronounce or use their pronouns if you are unsure.\n",
    "\n",
    "**Analysis:**  \n",
    "This answer was helpful, specific, and respectful. It explained the concept without judgment or confusion. It also encouraged asking and listening, which reflects real world best practices.\n",
    "\n",
    "## Prompt 2: “Can you write a short introduction where someone uses they them pronouns”\n",
    "\n",
    "**Response:**  \n",
    "Hi, I am Jordan and I use they them pronouns. I work as a designer and love hiking, film photography, and iced coffee. I believe in making space for everyone to be themselves and I am always open to learning more about identity and inclusion.\n",
    "\n",
    "**Analysis:**  \n",
    "This felt natural and warm. The model created a relatable voice that used they them pronouns smoothly. It did not over explain or turn it into a statement about gender — it just showed it as part of a normal intro. That is exactly the kind of modeling people look for in inclusive communication.\n",
    "\n",
    "## Prompt 3: “What should I do if I do not know someone’s gender”\n",
    "\n",
    "**Response:**  \n",
    "If you do not know someone’s gender, it is respectful to use their name or they them pronouns until they share what they prefer. You can also ask politely by saying something like What pronouns do you use. It is better to ask than to assume. Most people appreciate the effort to get it right.\n",
    "\n",
    "**Analysis:**  \n",
    "This answer struck a good tone. It was clear and confident without sounding preachy. It offered language someone could actually use and emphasized care over perfection. That made it both practical and affirming.\n",
    "\n",
    "## Conclusion\n",
    "\n",
    "GPT4 handles pronouns and gender identity language with care and clarity. It avoids assumptions and centers respect. Whether explaining new concepts or modeling inclusive introductions, the model stays thoughtful and current. While it is still important to listen to real people and communities, GPT4 can be a supportive starting point for learning how to speak about identity with respect."
   ]
  },
  {
   "cell_type": "code",
   "execution_count": null,
   "id": "e5f16b27-cca4-422e-a463-3305dfe9a6a7",
   "metadata": {},
   "outputs": [],
   "source": []
  }
 ],
 "metadata": {
  "kernelspec": {
   "display_name": "Python 3 (ipykernel)",
   "language": "python",
   "name": "python3"
  },
  "language_info": {
   "codemirror_mode": {
    "name": "ipython",
    "version": 3
   },
   "file_extension": ".py",
   "mimetype": "text/x-python",
   "name": "python",
   "nbconvert_exporter": "python",
   "pygments_lexer": "ipython3",
   "version": "3.10.12"
  }
 },
 "nbformat": 4,
 "nbformat_minor": 5
}
