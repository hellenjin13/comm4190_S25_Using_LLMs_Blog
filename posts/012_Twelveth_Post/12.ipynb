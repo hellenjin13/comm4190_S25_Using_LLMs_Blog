{
 "cells": [
  {
   "cell_type": "raw",
   "id": "be3857a1-3b58-4ceb-90d9-ccc0d35fafe0",
   "metadata": {},
   "source": [
    "---\n",
    "title: \"Testing LLMs: Can They Write Convincing Horoscopes?\"\n",
    "description: \"A blog exploring whether LLMs like GPT4 can generate horoscopes that sound real, personal, and astrologically accurate.\"\n",
    "author: \"Hellen Jin\"\n",
    "date: \"4/5/2025\"\n",
    "categories:\n",
    "  - LLMs\n",
    "  - Astrology\n",
    "  - Pop Culture\n",
    "---"
   ]
  },
  {
   "cell_type": "markdown",
   "id": "401eb543-64b5-4b79-9d51-0dced5a7a7e3",
   "metadata": {},
   "source": [
    "<img src=\"horoscope.png\" width=\"50%\"/>\n",
    "\n",
    "## Introduction\n",
    "\n",
    "Whether you believe in astrology or not, horoscopes have a specific tone. They are part advice, part poetry, and part prediction. I wanted to know if GPT4 could write daily horoscopes that actually sound like the ones you see in apps or magazines. Can it capture that blend of cosmic language and personal relevance?\n",
    "\n",
    "To test it, I gave the model a few zodiac signs and asked for horoscopes that felt emotionally grounded but also readable and fun.\n",
    "\n",
    "## Experiment: Prompting GPT4 to Write Horoscopes\n",
    "\n",
    "Here are the three prompts I tested\n",
    "\n",
    "“Write today’s horoscope for a Cancer”  \n",
    "“Give me a funny but still helpful horoscope for a Sagittarius”  \n",
    "“Write a horoscope for someone who is feeling stuck. They are a Virgo”\n",
    "\n",
    "## Prompt 1: “Write today’s horoscope for a Cancer”\n",
    "\n",
    "**Response:**  \n",
    "You may feel pulled between responsibility and rest today. Your natural instinct to care for others is strong, but remember that nurturing yourself is also important. A small break in the afternoon could recharge your emotional energy. Do not be afraid to say no.\n",
    "\n",
    "**Analysis:**  \n",
    "This sounded like something from a real astrology app. It had emotional insight and used themes like care and boundaries that often appear in Cancer readings. It was gentle but practical. This showed that GPT4 can mimic the tone well.\n",
    "\n",
    "## Prompt 2: “Give me a funny but still helpful horoscope for a Sagittarius”\n",
    "\n",
    "**Response:**  \n",
    "You are ready to book a last minute trip or start a podcast about your theories on everything. Just remember, not every idea needs to be pursued today. Channel that big fire energy into one thing and you might actually finish it. Also hydrate.\n",
    "\n",
    "**Analysis:**  \n",
    "This one was spot on in both tone and humor. Sagittarius is known for being bold and chaotic, and the model leaned into that without going overboard. It also gave low key advice in a way that felt playful and relatable.\n",
    "\n",
    "## Prompt 3: “Write a horoscope for someone who is feeling stuck. They are a Virgo”\n",
    "\n",
    "**Response:**  \n",
    "You are craving progress but feel like nothing is moving. Today, try letting go of the perfect plan. Progress can look like rest, reflection, or even starting over. Virgo energy loves structure, but sometimes the universe wants you to pause. Let that be okay.\n",
    "\n",
    "**Analysis:**  \n",
    "This felt grounded and kind. It addressed emotion while still referencing Virgo traits like planning and structure. The tone was warm but not fake positive. It really sounded like something a person going through a rut might need to hear.\n",
    "\n",
    "## Conclusion\n",
    "\n",
    "GPT4 can write horoscopes that sound believable, soothing, and specific. It captures the voice and emotion that people expect from astrology content. Whether or not you think the stars are real, the language of horoscopes clearly is — and LLMs know how to use it. From cosmic guidance to daily encouragement, this might be one of the most creative things the model does well."
   ]
  },
  {
   "cell_type": "code",
   "execution_count": null,
   "id": "7f2176e8-c5df-4e9e-9b59-b6af5bcb5e38",
   "metadata": {},
   "outputs": [],
   "source": []
  }
 ],
 "metadata": {
  "kernelspec": {
   "display_name": "Python 3 (ipykernel)",
   "language": "python",
   "name": "python3"
  },
  "language_info": {
   "codemirror_mode": {
    "name": "ipython",
    "version": 3
   },
   "file_extension": ".py",
   "mimetype": "text/x-python",
   "name": "python",
   "nbconvert_exporter": "python",
   "pygments_lexer": "ipython3",
   "version": "3.10.12"
  }
 },
 "nbformat": 4,
 "nbformat_minor": 5
}
