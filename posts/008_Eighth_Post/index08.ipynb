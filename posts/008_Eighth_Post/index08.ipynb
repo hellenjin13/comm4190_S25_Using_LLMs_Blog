{
 "cells": [
  {
   "cell_type": "markdown",
   "id": "2de5c7c1-55ba-4ec1-ad9d-ff1973ac1a56",
   "metadata": {},
   "source": [
    "## Can GPT-4 Name Your Brand? Testing AI on Wellness Marketing  \n",
    "**Date**: Feb 28, 2025\n",
    "\n",
    "---\n",
    "\n",
    "<img src=\"marketing.png\" width=\"50%\"/>\n",
    "\n",
    "\n",
    "**Prompt**:  \n",
    "> \"I’m starting a wellness brand that sells herbal teas and calming supplements. Can you suggest five brand names that sound modern, peaceful, and natural?\"\n",
    "\n",
    "**GPT-4 Response**:  \n",
    "> 1. Serene Root  \n",
    "> 2. Calmora  \n",
    "> 3. Oak & Bloom  \n",
    "> 4. Everquiet  \n",
    "> 5. Natria\n",
    "\n",
    "\n",
    "### Analysis\n",
    "\n",
    "The model gives five short names. They sound smooth and are easy to remember. Some combine nature words with calm ideas, like “Oak & Bloom” and “Everquiet.” Others use made-up names, like “Calmora,” which still give off the right mood.\n",
    "\n",
    "What works well is that none of the names are too complex. They fit into the wellness space without sounding like copies of big brands. The model seems to understand how brands are built around emotion. It avoids words that feel too strong or too plain.\n",
    "\n",
    "Still, it misses a few things. None of the names hint at teas or supplements directly. A person might want a name that says what the product is. That’s something the model could improve on if given more detail. It also does not explain why it picked each name. That leaves the user guessing about how to decide between them.\n",
    "\n",
    "---\n",
    "\n",
    "### Reflection\n",
    "\n",
    "GPT-4 is a decent partner for brand ideas. It is fast and flexible, but it works best when guided. You need to give it a clear goal and maybe ask follow-up questions. Without those, the names might sound nice but feel a bit empty. Branding is about more than style — it also needs to fit the story.\n",
    "\n",
    "---\n",
    "\n",
    "### References  \n",
    "- OpenAI. (2023). *GPT-4 Technical Report*. OpenAI.  \n",
    "- Thieme, A., & De Choudhury, M. (2022). *Designing AI for Mental Health: Lessons from CBT Therapists*. CHI Conference.\n"
   ]
  },
  {
   "cell_type": "code",
   "execution_count": null,
   "id": "026eba6f-3876-48c7-8764-a135a413e654",
   "metadata": {},
   "outputs": [],
   "source": []
  }
 ],
 "metadata": {
  "kernelspec": {
   "display_name": "Python 3 (ipykernel)",
   "language": "python",
   "name": "python3"
  },
  "language_info": {
   "codemirror_mode": {
    "name": "ipython",
    "version": 3
   },
   "file_extension": ".py",
   "mimetype": "text/x-python",
   "name": "python",
   "nbconvert_exporter": "python",
   "pygments_lexer": "ipython3",
   "version": "3.10.12"
  }
 },
 "nbformat": 4,
 "nbformat_minor": 5
}
