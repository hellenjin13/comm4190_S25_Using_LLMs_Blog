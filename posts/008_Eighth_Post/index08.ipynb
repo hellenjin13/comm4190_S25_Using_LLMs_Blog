{
 "cells": [
  {
   "cell_type": "raw",
   "id": "aaa490dc-2a1b-4955-a3dc-5aed6825cf5e",
   "metadata": {},
   "source": [
    "---\n",
    "title: \"Testing LLMs: Can They Help You Dress for the Weather?\"\n",
    "description: \"A blog exploring whether LLMs like GPT4 can give smart, weather based outfit suggestions based on location and personal style.\"\n",
    "author: \"Hellen Jin\"\n",
    "date: \"3/11/2024\"\n",
    "categories:\n",
    "  - LLMs\n",
    "  - Daily Life\n",
    "  - Fashion\n",
    "---"
   ]
  },
  {
   "cell_type": "markdown",
   "id": "33fec482-a79b-4686-8d13-2ad1e795e19e",
   "metadata": {},
   "source": [
    "<img src=\"weather.png\" width=\"50%\"/>\n",
    "\n",
    "## Introduction\n",
    "\n",
    "Choosing what to wear is something we do every day, but sometimes it is hard to match the weather, the vibe, and your plans. I wanted to see if GPT4 could help with that. Could it understand the temperature, forecast, and even the mood of a day and recommend something useful to wear?\n",
    "\n",
    "To test this, I gave it a few casual prompts about what to wear in different places and conditions. I looked at whether the suggestions were practical, accurate, and felt like something I would actually wear.\n",
    "\n",
    "## Experiment: Prompting GPT4 About Outfits and Weather\n",
    "\n",
    "I gave the model three different prompts\n",
    "\n",
    "“I want to know what to wear in Seoul in April”  \n",
    "“It is raining and I have a first date. Help”  \n",
    "“It is 90 degrees but I still want to look put together”\n",
    "\n",
    "## Prompt 1: “What should I wear in Seoul in April”\n",
    "\n",
    "**Response:**  \n",
    "April in Seoul is usually mild with temperatures between 50 and 65 degrees Fahrenheit. A light jacket or cardigan over a long sleeve shirt and jeans would work well. Bring a small umbrella just in case since spring showers are common.\n",
    "\n",
    "**Analysis:**  \n",
    "The response was weather accurate and culturally aware. It suggested layers which makes sense for transitional spring weather. It also reminded me to bring an umbrella without overdoing it. This answer felt thoughtful.\n",
    "\n",
    "## Prompt 2: “It is raining and I have a first date. Help”\n",
    "\n",
    "**Response:**  \n",
    "Go with waterproof boots or sneakers that still look clean. Pair them with dark jeans and a nice top or lightweight sweater. Add a sleek raincoat or trench that will keep you dry but still look stylish. Carry a compact umbrella to stay hands free.\n",
    "\n",
    "**Analysis:**  \n",
    "The model understood the stakes of the situation. It gave a mix of practical and stylish options and did not suggest anything unrealistic. It also felt gender neutral and flexible which made the advice feel more inclusive.\n",
    "\n",
    "## Prompt 3: “It is 90 degrees but I still want to look put together”\n",
    "\n",
    "**Response:**  \n",
    "Try a breezy linen or cotton outfit like a short sleeve button down with tailored shorts or a midi dress. Go for light colors to reflect heat. Keep accessories minimal and use sunscreen. A pair of white sneakers or sandals can complete the look.\n",
    "\n",
    "**Analysis:**  \n",
    "The outfit ideas were realistic and fashion forward without trying too hard. It gave both clothing advice and helpful tips for staying cool and protected. The response balanced comfort with style well.\n",
    "\n",
    "## Conclusion\n",
    "\n",
    "GPT4 can be surprisingly helpful when it comes to outfit choices and weather planning. Its suggestions are practical, flexible, and often show good taste. While it is not a personal stylist, it can definitely help you avoid showing up to class soaked or wearing boots in the heat. If you are ever standing in front of your closet and not sure what works for the weather, asking an LLM might save you time and stress."
   ]
  },
  {
   "cell_type": "code",
   "execution_count": null,
   "id": "72a0485d-f1cd-4140-91f6-30a7f3a0970a",
   "metadata": {},
   "outputs": [],
   "source": []
  }
 ],
 "metadata": {
  "kernelspec": {
   "display_name": "Python 3 (ipykernel)",
   "language": "python",
   "name": "python3"
  },
  "language_info": {
   "codemirror_mode": {
    "name": "ipython",
    "version": 3
   },
   "file_extension": ".py",
   "mimetype": "text/x-python",
   "name": "python",
   "nbconvert_exporter": "python",
   "pygments_lexer": "ipython3",
   "version": "3.10.12"
  }
 },
 "nbformat": 4,
 "nbformat_minor": 5
}
