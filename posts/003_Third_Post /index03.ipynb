{
 "cells": [
  {
   "cell_type": "markdown",
   "id": "9b841219-dbb9-4109-868f-a7b70f691763",
   "metadata": {},
   "source": [
    "---\n",
    "title: \"Testing LLMs: Can They Really Recognize and Generate Sarcasm?\"\n",
    "description: \"A blog that is of continuation of the first one, but this time with Sarcasm!!\"\n",
    "author: \"Hellen Jin\"\n",
    "date: \"2/4/2024\"\n",
    "categories:\n",
    "  - LLMs\n",
    "  - Figurative Language\n",
    "  - Human Interactions \n",
    "---"
   ]
  },
  {
   "cell_type": "code",
   "execution_count": null,
   "id": "10210170-75d2-47b2-a3ab-6a9289880e5c",
   "metadata": {},
   "outputs": [],
   "source": []
  }
 ],
 "metadata": {
  "kernelspec": {
   "display_name": "Python 3 (ipykernel)",
   "language": "python",
   "name": "python3"
  },
  "language_info": {
   "codemirror_mode": {
    "name": "ipython",
    "version": 3
   },
   "file_extension": ".py",
   "mimetype": "text/x-python",
   "name": "python",
   "nbconvert_exporter": "python",
   "pygments_lexer": "ipython3",
   "version": "3.10.12"
  }
 },
 "nbformat": 4,
 "nbformat_minor": 5
}
