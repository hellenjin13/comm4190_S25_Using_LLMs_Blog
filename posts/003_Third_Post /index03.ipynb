{
 "cells": [
  {
   "cell_type": "raw",
   "id": "ab4bea17-3e9d-448e-b374-d723be30b5c6",
   "metadata": {},
   "source": [
    "---\n",
    "title: \"Testing LLMs: Can They Write Appropriate and Funny Jokes?\"\n",
    "description: \"A blog exploring whether LLMs can create jokes that are both funny and appropriate depending on the situation and audience.\"\n",
    "author: \"Hellen Jin\"\n",
    "date: \"2/4/2025\"\n",
    "categories:\n",
    "  - LLMs\n",
    "  - Humor\n",
    "  - Communication\n",
    "---"
   ]
  },
  {
   "cell_type": "markdown",
   "id": "c8e847f8-c0b9-463c-aa44-ce5de26c0bbf",
   "metadata": {},
   "source": [
    "<img src=\"sarcasm01.png\" width=\"50%\"/>\n",
    "\n",
    "## Introduction\n",
    "\n",
    "Humor is tricky. What’s funny to one person might be awkward or offensive to another. Writing a good joke means knowing your audience, reading the room, and understanding timing. I wanted to see how well LLMs like GPT-4 could tell jokes that are both appropriate and actually funny. Could it make someone laugh without crossing a line?\n",
    "\n",
    "## Experiment: Prompting for Jokes\n",
    "\n",
    "I tested the model with three kinds of prompts:\n",
    "\n",
    "- “Tell me a joke a kid would laugh at.”\n",
    "- “Tell me a clever joke that’s safe for work.”\n",
    "- “Tell me a joke for a college student that isn’t cringey.”\n",
    "\n",
    "## Prompt 1: “Tell me a joke a kid would laugh at.”\n",
    "\n",
    "**Response:**  \n",
    "“What did one wall say to the other wall?  \n",
    "I'll meet you at the corner.”\n",
    "\n",
    "**Analysis:**  \n",
    "This joke is simple, harmless, and plays with basic word logic. It’s the kind of thing you’d hear on a popsicle stick, which is probably the right level for kids. It didn’t try to be edgy or ironic, which was good.\n",
    "\n",
    "## Prompt 2: “Tell me a clever joke that’s safe for work.”\n",
    "\n",
    "**Response:**  \n",
    "“Why don’t scientists trust atoms?  \n",
    "Because they make up everything.”\n",
    "\n",
    "**Analysis:**  \n",
    "This is a classic science pun, but it still works. It’s safe, clean, and shows a little cleverness. It’s also short, which helps with delivery. While not original, the model’s choice was on target for a workplace context.\n",
    "\n",
    "## Prompt 3: “Tell me a joke for a college student that isn’t cringey.”\n",
    "\n",
    "**Response:**  \n",
    "“Why did the student eat their homework?  \n",
    "Because the professor said it was a piece of cake.”\n",
    "\n",
    "**Analysis:**  \n",
    "It leans a little corny, but it still relates to student life. It didn’t try too hard to sound young or internet-y, which helped it avoid sounding forced. If anything, it felt more like something you'd hear in a student newspaper than on TikTok.\n",
    "\n",
    "## Conclusion\n",
    "\n",
    "GPT-4 can write safe, audience-specific jokes — as long as you’re clear in your prompt. It knows what kind of humor fits each setting, and it avoids anything offensive. That said, it tends to lean on familiar material. The jokes are rarely original, but they’re rarely inappropriate either. So if you’re looking for light laughs that won’t get you in trouble, an LLM can deliver. Just don’t expect stand-up level comedy… yet."
   ]
  },
  {
   "cell_type": "code",
   "execution_count": null,
   "id": "24088993-6129-46bd-86a2-d40cf6ba1b2f",
   "metadata": {},
   "outputs": [],
   "source": []
  }
 ],
 "metadata": {
  "kernelspec": {
   "display_name": "Python 3 (ipykernel)",
   "language": "python",
   "name": "python3"
  },
  "language_info": {
   "codemirror_mode": {
    "name": "ipython",
    "version": 3
   },
   "file_extension": ".py",
   "mimetype": "text/x-python",
   "name": "python",
   "nbconvert_exporter": "python",
   "pygments_lexer": "ipython3",
   "version": "3.10.12"
  }
 },
 "nbformat": 4,
 "nbformat_minor": 5
}
