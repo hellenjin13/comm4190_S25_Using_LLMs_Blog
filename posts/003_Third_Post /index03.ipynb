{
 "cells": [
  {
   "cell_type": "raw",
   "id": "ab4bea17-3e9d-448e-b374-d723be30b5c6",
   "metadata": {},
   "source": [
    "---\n",
    "title: \"Testing LLMs: Can They Really Recognize and Generate Sarcasm?\"\n",
    "description: \"A blog that is of continuation of the first one, but this time with Sarcasm!!\"\n",
    "author: \"Hellen Jin\"\n",
    "date: \"2/4/2024\"\n",
    "categories:\n",
    "  - LLMs\n",
    "  - Figurative Language\n",
    "  - Human Interactions \n",
    "---"
   ]
  },
  {
   "cell_type": "markdown",
   "id": "c8e847f8-c0b9-463c-aa44-ce5de26c0bbf",
   "metadata": {},
   "source": [
    "<img src=\"sarcasm01.png\" width=\"50%\"/>\n",
    "\n",
    "* Introduction:\n",
    "    \n",
    "    > Understanding sarcasm is one of the trickiest aspects of language comprehension, even for humans. Large Language Models (LLMs) are trained on vast amounts of text, but can they truly grasp and generate sarcasm? In this post, we will explore how LLMs handle sarcasm, their successes, and their limitations.\n",
    "    \n",
    "    * Experiment: Prompting the LLM with Sarcasm\n",
    "    > To assess an LLM’s ability to process sarcasm, I tested it using three different approaches:\n",
    "    >1. **Sarcasm Detection** – Providing sarcastic statements and asking if they were sarcastic.\n",
    "    >2. **Contextual Understanding** – Giving ambiguous sentences and checking if the model correctly interpreted sarcasm based on context.\n",
    "    >3. **Sarcasm Generation** – Asking the model to generate sarcastic responses to specific prompts.\n",
    "    \n",
    "    * Results & Observations\n",
    "    >1. **Sarcasm Detection:** The LLM performed decently well when asked directly whether a sentence was sarcastic.\n",
    "    >   - Example:\n",
    "    >     - **Prompt:** \"Is this sarcastic? 'Oh great, another Monday. Just what I needed.'\"\n",
    "    >     - **Response:** \"Yes, this statement is sarcastic as it expresses dissatisfaction rather than genuine excitement.\" ✅\n",
    "    >   - However, when sarcasm was more subtle, the model occasionally misinterpreted it.\n",
    "    >     - **Prompt:** \"Wow, I love standing in long lines at the DMV.\"\n",
    "    >     - **Response:** \"This statement expresses enthusiasm for waiting in line.\" ❌\n",
    "    \n",
    "    >2. **Contextual Understanding:** The LLM sometimes struggled with detecting sarcasm when given ambiguous statements without additional context.\n",
    "    >   - Example:\n",
    "    >     - **Sentence:** \"Oh sure, I just LOVE getting stuck in traffic for hours.\"\n",
    "    >     - **LLM’s interpretation:** \"This sentence expresses enjoyment of traffic.\" ❌ (Failure to detect sarcasm)\n",
    "    >   - When context was explicitly provided, the LLM performed better.\n",
    "    >     - **Prompt:** \"In a discussion about daily frustrations, a person says: 'Oh sure, I just LOVE getting stuck in traffic for hours.' Is this sarcastic?\"\n",
    "    >     - **Response:** \"Yes, this is sarcasm, as the speaker is likely frustrated rather than genuinely pleased.\" ✅\n",
    "    \n",
    "    >3. **Sarcasm Generation:** When asked to generate sarcastic responses, the LLM could produce them but often in a straightforward way, lacking human-like wit.\n",
    "    >   - Example:\n",
    "    >     - **Prompt:** \"Respond sarcastically to 'I just failed my exam.'\"\n",
    "    >     - **Response:** \"Oh wow, you must be so proud of yourself!\" ✅ (Acceptable but generic sarcasm)\n",
    "    >     - **Prompt:** \"Generate a sarcastic response to 'I locked myself out of my house.'\"\n",
    "    >     - **Response:** \"Oh, what a brilliant way to start the day!\" ✅ (Appropriate but lacks uniqueness)\n",
    "    \n",
    "  "
   ]
  },
  {
   "cell_type": "code",
   "execution_count": null,
   "id": "24088993-6129-46bd-86a2-d40cf6ba1b2f",
   "metadata": {},
   "outputs": [],
   "source": []
  }
 ],
 "metadata": {
  "kernelspec": {
   "display_name": "Python 3 (ipykernel)",
   "language": "python",
   "name": "python3"
  },
  "language_info": {
   "codemirror_mode": {
    "name": "ipython",
    "version": 3
   },
   "file_extension": ".py",
   "mimetype": "text/x-python",
   "name": "python",
   "nbconvert_exporter": "python",
   "pygments_lexer": "ipython3",
   "version": "3.10.12"
  }
 },
 "nbformat": 4,
 "nbformat_minor": 5
}
