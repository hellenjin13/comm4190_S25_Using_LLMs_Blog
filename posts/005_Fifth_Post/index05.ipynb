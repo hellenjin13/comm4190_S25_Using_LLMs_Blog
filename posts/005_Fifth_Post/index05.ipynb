{
 "cells": [
  {
   "cell_type": "code",
   "execution_count": null,
   "id": "40461860-832e-47c8-86d2-90e3d1266d3f",
   "metadata": {},
   "outputs": [],
   "source": [
    "---\n",
    "title: \"Testing LLMs: Do LLMs Understand Subtle Humor?\"\n",
    "description: \"A blog about the experiments I will be doing with the LLM to see if they can undertsand subtle humor like humans do\"\n",
    "author: \"Hellen Jin\"\n",
    "date: \"2/13/2024\"\n",
    "categories:\n",
    "  - LLMs\n",
    "  - Figurative Language \n",
    "  - Human interactions \n",
    "---"
   ]
  }
 ],
 "metadata": {
  "kernelspec": {
   "display_name": "Python 3 (ipykernel)",
   "language": "python",
   "name": "python3"
  },
  "language_info": {
   "codemirror_mode": {
    "name": "ipython",
    "version": 3
   },
   "file_extension": ".py",
   "mimetype": "text/x-python",
   "name": "python",
   "nbconvert_exporter": "python",
   "pygments_lexer": "ipython3",
   "version": "3.10.12"
  }
 },
 "nbformat": 4,
 "nbformat_minor": 5
}
