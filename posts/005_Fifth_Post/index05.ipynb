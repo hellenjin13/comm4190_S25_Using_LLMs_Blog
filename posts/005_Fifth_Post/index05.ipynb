{
 "cells": [
  {
   "cell_type": "code",
   "execution_count": null,
   "id": "40461860-832e-47c8-86d2-90e3d1266d3f",
   "metadata": {},
   "outputs": [],
   "source": [
    "---\n",
    "title: \"Testing LLMs: Can LLMs Adapt to Different Writing Styles?\"\n",
    "description: \"A blog about the experiments I will be doing with the LLM to see if they can customize their writing styles\"\n",
    "author: \"Hellen Jin\"\n",
    "date: \"2/16/2024\"\n",
    "categories:\n",
    "  - LLMs\n",
    "  - Figurative Language \n",
    "  - Creativity \n",
    "---"
   ]
  },
  {
   "cell_type": "markdown",
   "id": "4d06a0ff-2858-4237-9e6a-344a73080ae7",
   "metadata": {},
   "source": [
    "## Introduction\n",
    "    \n",
    ">Writing is more than just putting words together—it involves tone, structure, and nuance. Whether it’s formal business writing, casual social media posts, or poetic storytelling, the ability to switch styles is a skill that separates good writers from great ones. But what about AI? Can Large Language Models (LLMs) effectively adapt to different writing styles? Let’s find out.\n",
    "    \n",
    "### Experiment: Testing Style Adaptation\n",
    "    \n",
    "To evaluate how well an LLM can switch between writing styles, I tested it in three areas:\n",
    "    \n",
    "- **Professional vs. Casual Tone:** Asking the model to rewrite the same content in both formal and informal styles.\n",
    "- **Creative Writing:** Providing a simple idea and seeing how well the LLM could turn it into a compelling short story.\n",
    "- **Social Media vs. Academic Writing:** Comparing how the model frames the same information for different audiences.\n",
    "    \n",
    "    ### Results and Observations\n",
    "    \n",
    "    #### Professional vs. Casual Tone\n",
    "    \n",
    "    The LLM did well in adjusting tone, though some formal responses felt a bit too robotic.\n",
    "    \n",
    "    **Example:**\n",
    "    - **Prompt:** \"Write a formal email apologizing for missing a meeting.\"\n",
    "    - **Response:** \"Dear [Recipient], I sincerely apologize for missing our scheduled meeting today. An unforeseen circumstance arose, and I regret any inconvenience caused. Please let me know a suitable time to reschedule. Best regards, [Your Name].\"\n",
    "    - **Analysis:** The response is polished but could use a touch of warmth to feel more natural.\n",
    "    \n",
    "    - **Prompt:** \"Now, rewrite that in a casual tone.\"\n",
    "    - **Response:** \"Hey [Recipient], Sorry for missing our meeting earlier! Something unexpected came up, but I’d love to reschedule if you’re available. Let me know what works for you. Thanks!\"\n",
    "    - **Analysis:** The informal version reads much more naturally, showing that the model can successfully adjust tone.\n",
    "    \n",
    "    #### Creative Writing\n",
    "    \n",
    "    When asked to write creatively, the LLM generated well-structured narratives but sometimes lacked originality.\n",
    "    \n",
    "    **Example:**\n",
    "    - **Prompt:** \"Write a short suspenseful story about a lost key.\"\n",
    "    - **Response:** \"Emily’s heart pounded as she rummaged through her bag. The key to the old cabin—her only refuge—was gone. Footsteps crunched outside, growing closer. Her breath caught as she turned… and saw the door was already ajar.\"\n",
    "    - **Analysis:** The structure is solid, but the suspense feels somewhat formulaic. The model does well with classic storytelling but struggles with unpredictability.\n",
    "    \n",
    "    #### Social Media vs. Academic Writing\n",
    "    \n",
    "    The model effectively adjusted to different audiences but sometimes overcompensated, making academic writing too dense.\n",
    "    \n",
    "    **Example:**\n",
    "    - **Prompt:** \"Explain climate change for Twitter.\"\n",
    "    - **Response:** \"Earth’s heating up, and we’re the cause. Burning fossil fuels = more CO2 = higher temps. Solutions? Cut emissions & go green. #ClimateAction\"\n",
    "    - **Analysis:** The tweet is concise and engaging, a good fit for social media.\n",
    "    \n",
    "    - **Prompt:** \"Now, explain it for a research paper.\"\n",
    "    - **Response:** \"Climate change refers to long-term shifts in temperature and weather patterns, primarily due to anthropogenic greenhouse gas emissions. The combustion of fossil fuels has significantly increased atmospheric CO2 levels, leading to rising global temperatures and environmental disruptions. Mitigation strategies must focus on reducing emissions and transitioning to sustainable energy sources.\"\n",
    "    - **Analysis:** The response is informative but could be more readable.\n",
    "    \n",
    "    ### Conclusion\n",
    "    \n",
    "    LLMs show a strong ability to adjust writi"
   ]
  }
 ],
 "metadata": {
  "kernelspec": {
   "display_name": "Python 3 (ipykernel)",
   "language": "python",
   "name": "python3"
  },
  "language_info": {
   "codemirror_mode": {
    "name": "ipython",
    "version": 3
   },
   "file_extension": ".py",
   "mimetype": "text/x-python",
   "name": "python",
   "nbconvert_exporter": "python",
   "pygments_lexer": "ipython3",
   "version": "3.10.12"
  }
 },
 "nbformat": 4,
 "nbformat_minor": 5
}
