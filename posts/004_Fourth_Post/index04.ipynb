{
 "cells": [
  {
   "cell_type": "code",
   "execution_count": null,
   "id": "b3538d71-03db-48f7-bc20-e24b4517a112",
   "metadata": {},
   "outputs": [],
   "source": [
    "---\n",
    "title: \"Testing LLMs: Do LLMs Understand Subtle Humor?\"\n",
    "description: \"A blog about the experiments I will be doing with the LLM to see if they can undertsand subtle humor like humans do\"\n",
    "author: \"Hellen Jin\"\n",
    "date: \"2/13/2024\"\n",
    "categories:\n",
    "  - LLMs\n",
    "  - Figurative Language \n",
    "  - Human interactions \n",
    "---"
   ]
  },
  {
   "cell_type": "markdown",
   "id": "b5e14382-ada3-419a-a437-7d0cdc0e389a",
   "metadata": {},
   "source": [
    "### Introduction\n",
    "    \n",
    ">Humor is one of the most complex aspects of human communication. It relies on cultural context, tone, wordplay, and sometimes even shared experiences. So how well do Large Language Models (LLMs) grasp humor? Can they recognize jokes, understand sarcasm, and even generate witty responses? This post explores how LLMs perform when faced with humor in different contexts.\n",
    "    \n",
    "### Experiment: Putting LLMs to the Test\n",
    "    \n",
    ">To analyze how well an LLM handles humor, I used three different approaches:\n",
    "    \n",
    " - **Joke Interpretation:** The model was given classic jokes and asked to explain them.\n",
    " - **Sarcasm Recognition:** It had to determine whether a statement was sarcastic or serious.\n",
    " - **Humor Generation:** The LLM was asked to create humorous responses to everyday situations.\n",
    "    \n",
    "    ### Results and Observations\n",
    "    \n",
    "    #### Joke Interpretation\n",
    "    \n",
    "    >The LLM generally did well at explaining straightforward jokes but sometimes struggled with more nuanced humor.\n",
    "    \n",
    "    **Example:**\n",
    "    - **Prompt:** \"Why don’t skeletons fight each other? Because they don’t have the guts.\"\n",
    "    - **Response:** \"This joke is a play on words. 'Guts' refers both to courage and internal organs, which skeletons lack.\"\n",
    "    - **Analysis:** The explanation is technically correct, but it lacks the flair of someone who truly understands humor.\n",
    "    \n",
    "    #### Sarcasm Recognition\n",
    "    \n",
    "    >Sarcasm is tricky even for humans, so it wasn’t surprising that the LLM sometimes missed the mark.\n",
    "    \n",
    "    **Example:**\n",
    "    - **Prompt:** \"Oh great, another Monday. Just what I needed.\"\n",
    "    - **Response:** \"This statement expresses enthusiasm about Monday.\"\n",
    "    - **Analysis:** The model took the phrase literally and missed the sarcastic intent.\n",
    "    \n",
    "    However, when given additional context, it performed better:\n",
    "    \n",
    "    - **Prompt:** \"In response to a friend complaining about work: 'Oh great, another Monday. Just what I needed.' Is this sarcastic?\"\n",
    "    - **Response:** \"Yes, this is likely sarcasm, as the speaker does not actually seem excited about Monday.\"\n",
    "    - **Analysis:** The extra context helped the model recognize the intended tone.\n",
    "    \n",
    "    #### Humor Generation\n",
    "    \n",
    "    >When asked to generate jokes or witty responses, the LLM often defaulted to simple wordplay or cliché humor.\n",
    "    \n",
    "    **Example:**\n",
    "    - **Prompt:** \"Tell me a joke about coffee.\"\n",
    "    - **Response:** \"Why did the coffee file a police report? It got mugged!\"\n",
    "    - **Analysis:** While the joke is structurally sound, it feels generic and lacks originality.\n",
    "    \n",
    "    ### Conclusion\n",
    "    \n",
    "    >LLMs have a decent grasp of humor, particularly when it comes to recognizing simple jokes and basic wordplay. However, they struggle with sarcasm and generating humor that feels natural and spontaneous. While AI can provide humorous content, it still lacks the deeper understanding and wit that make human humor so engaging.\n",
    "    "
   ]
  }
 ],
 "metadata": {
  "kernelspec": {
   "display_name": "Python 3 (ipykernel)",
   "language": "python",
   "name": "python3"
  },
  "language_info": {
   "codemirror_mode": {
    "name": "ipython",
    "version": 3
   },
   "file_extension": ".py",
   "mimetype": "text/x-python",
   "name": "python",
   "nbconvert_exporter": "python",
   "pygments_lexer": "ipython3",
   "version": "3.10.12"
  }
 },
 "nbformat": 4,
 "nbformat_minor": 5
}
