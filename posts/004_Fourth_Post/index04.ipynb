{
 "cells": [
  {
   "cell_type": "raw",
   "id": "5f451bc2-cc08-4039-a8b1-8516dbb56f0a",
   "metadata": {},
   "source": [
    "---\n",
    "title: \"Testing LLMs: Can They Understand Emojis?\"\n",
    "description: \"A blog exploring whether LLMs can interpret and respond to emojis the way humans do.\"\n",
    "author: \"Hellen Jin\"\n",
    "date: \"2/13/2025\"\n",
    "categories:\n",
    "  - LLMs\n",
    "  - Communication\n",
    "  - Language\n",
    "---"
   ]
  },
  {
   "cell_type": "markdown",
   "id": "b5e14382-ada3-419a-a437-7d0cdc0e389a",
   "metadata": {},
   "source": [
    "<img src=\"humor01.png\" width=\"50%\"/>\n",
    "\n",
    "## Introduction\n",
    "\n",
    "Emojis are a huge part of digital communication. People use them to show tone, emotion, sarcasm, or even replace whole words. But can LLMs actually understand what emojis mean in context — or do they just treat them like random symbols?\n",
    "\n",
    "I wanted to find out whether GPT-4 could interpret emojis the way people do. Could it tell when someone was joking, sad, or flirting — just from a few emoji cues?\n",
    "\n",
    "## Experiment: Prompting with Emojis\n",
    "\n",
    "I gave GPT-4 a few short prompts made up mostly of emojis. Then I asked it to explain what the message meant or respond appropriately.\n",
    "\n",
    "## Prompt 1: “I just failed my exam 😭📉🍫”\n",
    "\n",
    "**Response:**  \n",
    "“It sounds like you're really upset about failing your exam. Maybe you’re planning to eat some chocolate to feel better. That’s totally understandable. Be kind to yourself — one bad grade doesn’t define you.”\n",
    "\n",
    "**Analysis:**  \n",
    "The model correctly picked up on the meaning of the crying face, a drop in performance, and comfort food. It didn’t just read the emojis literally — it used them to understand tone and emotion.\n",
    "\n",
    "## Prompt 2: “Can’t wait for the weekend 😎🌴🍹”\n",
    "\n",
    "**Response:**  \n",
    "“Looks like you’re in vacation mode! Hope you have a relaxing weekend, maybe by the beach with a nice drink.”\n",
    "\n",
    "**Analysis:**  \n",
    "This was a good read. The model understood the excitement, the chill vibe, and even the tropical theme. It didn’t confuse the emojis or miss the casual tone.\n",
    "\n",
    "## Prompt 3: “Sure 😒”\n",
    "\n",
    "**Response:**  \n",
    "“This seems like it might be sarcastic or annoyed. If that’s not the case, could you clarify what you meant?”\n",
    "\n",
    "**Analysis:**  \n",
    "The model caught the shift in tone caused by the emoji. It recognized that even a neutral word like “Sure” can become passive-aggressive with the right emoji. This showed emotional and social awareness.\n",
    "\n",
    "## Prompt 4: “🔥💯🙌”\n",
    "\n",
    "**Response:**  \n",
    "“This usually means something is really impressive, exciting, or worth celebrating. It’s often used to hype someone up.”\n",
    "\n",
    "**Analysis:**  \n",
    "GPT-4 correctly decoded this emoji trio as internet praise. It responded without needing more context, showing it’s familiar with emoji slang and online culture.\n",
    "\n",
    "## Conclusion\n",
    "\n",
    "LLMs can understand emojis surprisingly well, especially when they’re used in everyday ways. GPT-4 shows it can interpret emotion, sarcasm, and tone when emojis are part of a message. While it doesn’t “feel” anything, it has seen enough human conversations to know how emojis work in context. So yes — your AI assistant gets the 😭, the 😎, and even the 💯."
   ]
  },
  {
   "cell_type": "code",
   "execution_count": null,
   "id": "f3ab7fe2-bd7f-4d3f-8189-5f417fdf89a0",
   "metadata": {},
   "outputs": [],
   "source": []
  }
 ],
 "metadata": {
  "kernelspec": {
   "display_name": "Python 3 (ipykernel)",
   "language": "python",
   "name": "python3"
  },
  "language_info": {
   "codemirror_mode": {
    "name": "ipython",
    "version": 3
   },
   "file_extension": ".py",
   "mimetype": "text/x-python",
   "name": "python",
   "nbconvert_exporter": "python",
   "pygments_lexer": "ipython3",
   "version": "3.10.12"
  }
 },
 "nbformat": 4,
 "nbformat_minor": 5
}
