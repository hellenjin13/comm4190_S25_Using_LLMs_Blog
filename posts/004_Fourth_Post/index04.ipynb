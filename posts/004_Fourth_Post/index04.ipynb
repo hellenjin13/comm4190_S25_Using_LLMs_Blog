{
 "cells": [
  {
   "cell_type": "code",
   "execution_count": null,
   "id": "b3538d71-03db-48f7-bc20-e24b4517a112",
   "metadata": {},
   "outputs": [],
   "source": [
    "---\n",
    "title: \"Testing LLMs: Can They Really Understand Idioms?\"\n",
    "description: \"A blog about the experiments I will be doing with the LLM to see if they can undertsand idioms like humans do\"\n",
    "author: \"Hellen Jin\"\n",
    "date: \"2/4/2024\"\n",
    "categories:\n",
    "  - LLMs\n",
    "  - Figurative Language \n",
    "---"
   ]
  }
 ],
 "metadata": {
  "kernelspec": {
   "display_name": "Python 3 (ipykernel)",
   "language": "python",
   "name": "python3"
  },
  "language_info": {
   "codemirror_mode": {
    "name": "ipython",
    "version": 3
   },
   "file_extension": ".py",
   "mimetype": "text/x-python",
   "name": "python",
   "nbconvert_exporter": "python",
   "pygments_lexer": "ipython3",
   "version": "3.10.12"
  }
 },
 "nbformat": 4,
 "nbformat_minor": 5
}
