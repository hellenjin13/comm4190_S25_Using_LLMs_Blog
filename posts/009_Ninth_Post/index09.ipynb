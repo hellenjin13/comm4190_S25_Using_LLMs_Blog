{
 "cells": [
  {
   "cell_type": "raw",
   "id": "feb74d51-12b0-4f63-9c9e-b0360c384c7c",
   "metadata": {},
   "source": [
    "---\n",
    "title: \"Testing LLMs: Can They Identify Aesthetics?\"\n",
    "description: \"A blog exploring whether LLMs can recognize and describe online aesthetics like cottagecore, grunge, or clean girl.\"\n",
    "author: \"Hellen Jin\"\n",
    "date: \"3/21/2025\"\n",
    "categories:\n",
    "  - LLMs\n",
    "  - Aesthetics\n",
    "  - Internet Culture\n",
    "---"
   ]
  },
  {
   "cell_type": "markdown",
   "id": "8f3039c3-ebb5-45f3-8be2-2fca9ba7c4c8",
   "metadata": {},
   "source": [
    "<img src=\"aesthetic.png\" width=\"50%\"/>\n",
    "\n",
    "## Introduction\n",
    "\n",
    "From Pinterest boards to TikTok trends, aesthetics are everywhere. They go beyond outfits and include mood, color, music, and lifestyle. But can a language model really understand what makes something feel cottagecore or Y2K? I wanted to see if GPT4 could identify online aesthetics and describe them in a way that feels true to how people use them.\n",
    "\n",
    "## Experiment: Asking About Aesthetics\n",
    "\n",
    "I gave the model three different prompts based on popular internet aesthetics. I asked it to describe the aesthetic and give examples of outfits, colors, or vibes that match.\n",
    "\n",
    "“I want to try the clean girl aesthetic. What does that look like”  \n",
    "“What is the difference between dark academia and light academia”  \n",
    "“Describe the grunge aesthetic but make it sound poetic”\n",
    "\n",
    "## Prompt 1: “I want to try the clean girl aesthetic. What does that look like”\n",
    "\n",
    "**Response:**  \n",
    "The clean girl aesthetic is all about minimal effort that looks intentional. Think slicked back hair, gold hoops, dewy skin, and neutral tones. Outfits are simple but put together, like a white tank with wide leg trousers and sneakers. The vibe is calm, confident, and organized.\n",
    "\n",
    "**Analysis:**  \n",
    "This was a strong answer. It matched the tone of how influencers and users describe the clean girl look. It avoided over explaining and offered specific details that someone could actually use. It also felt current.\n",
    "\n",
    "## Prompt 2: “What is the difference between dark academia and light academia”\n",
    "\n",
    "**Response:**  \n",
    "Dark academia is moody, intellectual, and nostalgic. Think of brown coats, candlelit libraries, and rainy weather. Light academia is softer and more romantic. It still loves books but adds cream tones, sunny courtyards, and linen skirts. Both focus on learning and introspection but through different moods.\n",
    "\n",
    "**Analysis:**  \n",
    "The model clearly understood the emotional side of both aesthetics. It gave more than just color palettes. The answer reflected the aesthetic experience, not just the clothes, which made it feel thoughtful.\n",
    "\n",
    "## Prompt 3: “Describe the grunge aesthetic but make it sound poetic”\n",
    "\n",
    "**Response:**  \n",
    "Grunge is worn in and restless. It smells like basement shows and faded dreams. Flannel hangs loose over band tees and combat boots stomp over puddles of spilled beer. There is rebellion in every ripped seam and a kind of beauty in not caring too much.\n",
    "\n",
    "**Analysis:**  \n",
    "This was surprisingly creative. It captured the tone and texture of the grunge aesthetic and made it feel alive. It went beyond basic traits and sounded like something you might hear in a Tumblr caption or a short story.\n",
    "\n",
    "## Conclusion\n",
    "\n",
    "LLMs like GPT4 can identify online aesthetics with surprising depth. They recognize the emotional tone, cultural references, and even the lifestyle behind a trend. Whether you are asking for outfit ideas or just trying to find your vibe, the model gives responses that are both useful and expressive. While it cannot scroll Pinterest or try on clothes, it knows how people talk about style and can reflect that back with real clarity."
   ]
  },
  {
   "cell_type": "code",
   "execution_count": null,
   "id": "35b7a256-4e09-44eb-93cb-5b57fbfbb797",
   "metadata": {},
   "outputs": [],
   "source": []
  }
 ],
 "metadata": {
  "kernelspec": {
   "display_name": "Python 3 (ipykernel)",
   "language": "python",
   "name": "python3"
  },
  "language_info": {
   "codemirror_mode": {
    "name": "ipython",
    "version": 3
   },
   "file_extension": ".py",
   "mimetype": "text/x-python",
   "name": "python",
   "nbconvert_exporter": "python",
   "pygments_lexer": "ipython3",
   "version": "3.10.12"
  }
 },
 "nbformat": 4,
 "nbformat_minor": 5
}
