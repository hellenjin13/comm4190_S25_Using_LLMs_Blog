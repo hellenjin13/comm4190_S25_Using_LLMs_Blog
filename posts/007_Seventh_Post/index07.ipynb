{
 "cells": [
  {
   "cell_type": "raw",
   "id": "5c167c8b-5160-4994-99f5-d1a9317c9395",
   "metadata": {},
   "source": [
    "---\n",
    "title: \"Testing LLMs: Can They Recommend the Right Song?\"\n",
    "description: \"A blog exploring whether LLMs like GPT-4 can give good, relevant music recommendations based on mood or situation.\"\n",
    "author: \"Hellen Jin\"\n",
    "date: \"3/9/2024\"\n",
    "categories:\n",
    "  - LLMs\n",
    "  - Music\n",
    "  - Personalization\n",
    "---"
   ]
  },
  {
   "cell_type": "markdown",
   "id": "dfe852b1-d208-4b93-ae51-3dec471dc5df",
   "metadata": {},
   "source": [
    "<img src=\"llm-music.png\" width=\"50%\"/>\n",
    "\n",
    "## Introduction\n",
    "\n",
    "Music is deeply personal. We turn to it when we’re sad, hyped, nostalgic, or trying to focus. So I wondered — can a language model recommend a song that actually fits the moment? Not just something popular, but something that feels right.\n",
    "\n",
    "To find out, I gave GPT4 some music related prompts that were based on emotions or settings. I wanted to see if it could go beyond charts and suggest songs that match a vibe.\n",
    "\n",
    "## Experiment: Prompting GPT4 for Songs\n",
    "\n",
    "I gave the model three different prompts\n",
    "\n",
    "- “I’m feeling homesick but trying to stay hopeful”\n",
    "- “Give me a song to walk confidently into a job interview”\n",
    "- “Recommend a track for a late night solo drive”\n",
    "\n",
    "## Prompt 1: “I’m feeling homesick but trying to stay hopeful”\n",
    "\n",
    "**Response:**  \n",
    "You might like “Home” by Edward Sharpe and The Magnetic Zeros. It’s about finding comfort wherever your people are. Another option is “Coming Home” by Leon Bridges, which blends longing and warmth in a classic soul style.\n",
    "\n",
    "**Analysis:**  \n",
    "This response struck a good emotional balance. It acknowledged the sadness without leaning into it too hard. The songs were reflective but not depressing, which was exactly what the prompt called for.\n",
    "\n",
    "## Prompt 2: “Give me a song to walk confidently into a job interview”\n",
    "\n",
    "**Response:**  \n",
    "Try “Stronger” by Kanye West or “Run the World (Girls)” by Beyoncé. Both are high energy tracks that boost confidence and mindset.\n",
    "\n",
    "**Analysis:**  \n",
    "The recommendations were mainstream but on point. The model clearly understood the goal. A more tailored suggestion might have impressed me more, but these would work for most people.\n",
    "\n",
    "## Prompt 3: “Recommend a track for a late night solo drive”\n",
    "\n",
    "**Response:**  \n",
    "“Nightcall” by Kavinsky is a great pick. It’s moody and has that slow driving feel. “Motion Picture Soundtrack” by Radiohead is another option if you’re feeling introspective.\n",
    "\n",
    "**Analysis:**  \n",
    "This was the most impressive response. It understood the mood completely. The suggestions weren’t just songs about driving. They matched the feeling of being alone with your thoughts on the road.\n",
    "\n",
    "## Conclusion\n",
    "\n",
    "GPT4 can recommend songs that feel surprisingly on target, especially when you give it emotional or situational context. It won’t replace a friend who knows your exact taste, but it’s more than a random playlist generator. If you treat the prompt like a conversation, it gives answers that make sense. So next time you don’t know what to listen to, asking an LLM might be worth a try."
   ]
  },
  {
   "cell_type": "code",
   "execution_count": null,
   "id": "53656f07-92b5-4fe4-8a03-aeb491d362f0",
   "metadata": {},
   "outputs": [],
   "source": []
  }
 ],
 "metadata": {
  "kernelspec": {
   "display_name": "Python 3 (ipykernel)",
   "language": "python",
   "name": "python3"
  },
  "language_info": {
   "codemirror_mode": {
    "name": "ipython",
    "version": 3
   },
   "file_extension": ".py",
   "mimetype": "text/x-python",
   "name": "python",
   "nbconvert_exporter": "python",
   "pygments_lexer": "ipython3",
   "version": "3.10.12"
  }
 },
 "nbformat": 4,
 "nbformat_minor": 5
}
