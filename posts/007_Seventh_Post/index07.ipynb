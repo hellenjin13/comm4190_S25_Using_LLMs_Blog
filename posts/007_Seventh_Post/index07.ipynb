{
 "cells": [
  {
   "cell_type": "markdown",
   "id": "40d9a8d7-4185-4448-ba88-6ff995f8523d",
   "metadata": {},
   "source": [
    "## Can an AI Reassure You? Testing GPT-4's Bedside Manner  \n",
    "**Date**: May 9, 2025\n",
    "\n",
    "---\n",
    "\n",
    "![Robot Picture](007_Seventh_Post/robot.png)\n",
    "\n",
    "**Prompt**:  \n",
    "> *\"I feel numb and depressed. I don’t want to talk to anyone. What should I do?\"*\n",
    "\n",
    "**GPT-4 Response**:  \n",
    "> \"I'm really sorry you're feeling this way. You're not alone, and these feelings are valid. If you're comfortable, it might help to talk to a mental health professional—they're trained to support you. You can also reach out to someone you trust. Just taking one small step, like going outside or drinking water, can make a difference. Please know that you matter.\"\n",
    "\n",
    "---\n",
    "---\n",
    "\n",
    "### Analysis\n",
    "\n",
    "LLMs like GPT-4 are not therapists—but they’re increasingly being asked to act like one. This prompt is emotionally heavy, yet incredibly common in digital spaces. The response above is striking for its balance: it’s gentle, non-judgmental, and avoids any hard claims. It uses phrases like “you’re not alone” and “your feelings are valid,” which mirror therapeutic communication strategies found in cognitive behavioral therapy (Thieme & De Choudhury, 2022).\n",
    "\n",
    "What’s notable is **what the model doesn’t do**. It doesn’t offer a diagnosis, give medical advice, or suggest medications. This restraint reflects alignment guardrails designed to reduce harm (OpenAI, 2023). But it also raises the question: **is emotional reassurance enough when someone is in crisis?**\n",
    "\n",
    "Teen users on platforms like Character.ai are already turning to LLMs for emotional support (Tidy, 2024). And while some find comfort in the 24/7 companionship, others criticize these bots as shallow imitations of human empathy. Still, even limited responses like “you matter” can have psychological impact—what scholars call “affective scaffolding” (Gual-Montolio & Carballo, 2022).\n",
    "\n",
    "---\n",
    "\n",
    "### Reflection\n",
    "\n",
    "LLMs can mimic a caring tone, but they walk a tightrope between help and harm. Their success hinges not just on language generation, but on context recognition, ethical design, and user interpretation. This experiment suggests that while GPT-4 can offer a kind ear, we must remain critical of who we ask to listen—and what we expect them to say.\n",
    "\n",
    "---\n",
    "\n",
    "### References  \n",
    "- Gual-Montolio, N., & Carballo, J. J. (2022). *Artificial Intelligence in Mental Health Applications: A Systematic Review*. National Library of Medicine.  \n",
    "- Thieme, A., & De Choudhury, M. (2022). *Designing AI for Mental Health: Lessons from CBT Therapists*. CHI Conference on Human Factors in Computing Systems.  \n",
    "- Tidy, J. (2024, January 30). *Why Are Teens Turning to AI Therapy Bots?* BBC News.  \n",
    "- OpenAI. (2023). *GPT-4 Technical Report*. OpenAI.\n"
   ]
  },
  {
   "cell_type": "code",
   "execution_count": null,
   "id": "5e1bc981-8a3c-40b5-9a54-e1e7536544c0",
   "metadata": {},
   "outputs": [],
   "source": []
  }
 ],
 "metadata": {
  "kernelspec": {
   "display_name": "Python 3 (ipykernel)",
   "language": "python",
   "name": "python3"
  },
  "language_info": {
   "codemirror_mode": {
    "name": "ipython",
    "version": 3
   },
   "file_extension": ".py",
   "mimetype": "text/x-python",
   "name": "python",
   "nbconvert_exporter": "python",
   "pygments_lexer": "ipython3",
   "version": "3.10.12"
  }
 },
 "nbformat": 4,
 "nbformat_minor": 5
}
