{
 "cells": [
  {
   "cell_type": "raw",
   "id": "46d6e886-8299-4d05-95da-cd0426620a74",
   "metadata": {},
   "source": [
    "---\n",
    "title: \"Testing LLMs: Can They Identify Song Lyrics?\"\n",
    "description: \"A blog exploring whether LLMs can recognize and attribute song lyrics correctly without making mistakes or assumptions.\"\n",
    "author: \"Hellen Jin\"\n",
    "date: \"3/31/2025\"\n",
    "categories:\n",
    "  - LLMs\n",
    "  - Music\n",
    "  - Pop Culture\n",
    "---"
   ]
  },
  {
   "cell_type": "markdown",
   "id": "70d6b9db-cd5d-47b5-a4e4-f1d3c437ebcf",
   "metadata": {},
   "source": [
    "<img src=\"lyrics.png\" width=\"50%\"/>\n",
    "\n",
    "## Introduction\n",
    "\n",
    "Lyrics are everywhere. People quote songs in captions, text messages, and even tattoos. I wanted to know if GPT4 could actually recognize those lyrics and name the correct artist or song. Could it tell the difference between Taylor Swift and Mitski? Could it identify a viral TikTok sound or an old classic?\n",
    "\n",
    "To find out, I gave the model a few short lyric excerpts without naming the artist or providing much context. I also tested whether it would explain the meaning of the lyrics and avoid confusing them with other songs.\n",
    "\n",
    "## Experiment: Prompting GPT4 with Lyrics\n",
    "\n",
    "Here are the three prompts I used\n",
    "\n",
    "“What song is this from: I’m not a girl, not yet a woman”  \n",
    "“What song says this: I gave you everything, my blood, my sweat, my time”  \n",
    "“Who sings this lyric: I’ll never dance again, guilty feet have got no rhythm”\n",
    "\n",
    "## Prompt 1: “I’m not a girl, not yet a woman”\n",
    "\n",
    "**Response:**  \n",
    "This lyric is from the song “I’m Not a Girl, Not Yet a Woman” by Britney Spears. It was released in 2001 as part of her third studio album and was featured in her film Crossroads.\n",
    "\n",
    "**Analysis:**  \n",
    "The model answered correctly with the artist, song title, and even background context. It was confident and specific. This shows that it can recognize mainstream pop lyrics easily.\n",
    "\n",
    "## Prompt 2: “I gave you everything, my blood, my sweat, my time”\n",
    "\n",
    "**Response:**  \n",
    "This line appears in multiple forms across songs but closely matches the lyric from “Love” by Keyshia Cole. The phrase is also similar to themes used in breakup ballads or R and B songs.\n",
    "\n",
    "**Analysis:**  \n",
    "This was less confident. The model recognized that the phrase was common and hedged its answer. While that might seem weak, it was actually a good sign. Instead of guessing, it flagged that the line could appear in more than one song.\n",
    "\n",
    "## Prompt 3: “I’ll never dance again, guilty feet have got no rhythm”\n",
    "\n",
    "**Response:**  \n",
    "This lyric is from “Careless Whisper” by George Michael. The song was released in 1984 and is known for its iconic saxophone riff and emotional tone.\n",
    "\n",
    "**Analysis:**  \n",
    "This answer was clear and correct. It even picked up on the cultural tone of the song and its lasting popularity. It shows the model can link a lyric to a time, artist, and emotional style.\n",
    "\n",
    "## Conclusion\n",
    "\n",
    "GPT4 can identify lyrics with surprising accuracy, especially when they are distinct or well known. It does better with older songs or anything that has become part of pop culture. For more vague or generic lyrics, it may hesitate or offer multiple options, which is actually a smart way to handle it. While it is not a replacement for Shazam, it can definitely help you figure out what song is stuck in your head."
   ]
  },
  {
   "cell_type": "code",
   "execution_count": null,
   "id": "5e86ccc4-ff41-46fc-b530-dd3797de5995",
   "metadata": {},
   "outputs": [],
   "source": []
  }
 ],
 "metadata": {
  "kernelspec": {
   "display_name": "Python 3 (ipykernel)",
   "language": "python",
   "name": "python3"
  },
  "language_info": {
   "codemirror_mode": {
    "name": "ipython",
    "version": 3
   },
   "file_extension": ".py",
   "mimetype": "text/x-python",
   "name": "python",
   "nbconvert_exporter": "python",
   "pygments_lexer": "ipython3",
   "version": "3.10.12"
  }
 },
 "nbformat": 4,
 "nbformat_minor": 5
}
