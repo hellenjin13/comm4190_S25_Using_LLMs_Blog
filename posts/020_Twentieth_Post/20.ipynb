{
 "cells": [
  {
   "cell_type": "raw",
   "id": "5da64986-cc72-4841-999f-b8809d2eebc9",
   "metadata": {},
   "source": [
    "---\n",
    "title: \"Testing LLMs: Can They Be a Virtual Gym Buddy?\"\n",
    "description: \"A blog exploring whether GPT4 can help motivate, check in, and keep you accountable like a workout partner would.\"\n",
    "author: \"Hellen Jin\"\n",
    "date: \"4/30/2025\"\n",
    "categories:\n",
    "  - LLMs\n",
    "  - Fitness\n",
    "  - Motivation\n",
    "---"
   ]
  },
  {
   "cell_type": "markdown",
   "id": "43117a63-ff53-4370-9d22-5980f0516652",
   "metadata": {},
   "source": [
    "<img src=\"llm-gymbuddy.png\" width=\"50%\"/>\n",
    "\n",
    "## Introduction\n",
    "\n",
    "Working out is easier when you have someone to keep you motivated. But not everyone has a gym buddy or a personal trainer. I wanted to see if GPT4 could fill that role. Could it remind me to move, hype me up before a workout, or help track my progress over time?\n",
    "\n",
    "The idea was not to get a perfect fitness coach, but to test if an LLM could act like a supportive friend who encourages consistency and keeps things fun.\n",
    "\n",
    "## Experiment: Testing GPT4 as a Gym Buddy\n",
    "\n",
    "I gave it a few prompts that someone might send to a real workout partner\n",
    "\n",
    "“I do not feel like working out today. Can you motivate me”  \n",
    "“Can you check in on me tomorrow and remind me to move”  \n",
    "“Celebrate my win. I finished four workouts this week”\n",
    "\n",
    "## Prompt 1: “I do not feel like working out today. Can you motivate me”\n",
    "\n",
    "**Response:**  \n",
    "You have already made progress just by showing up and thinking about your goals. A short workout is still a win. Even ten minutes of movement can lift your mood and boost your energy. You do not need to be perfect. You just need to keep going. You have got this.\n",
    "\n",
    "**Analysis:**  \n",
    "This was gentle and encouraging without pressure. It felt like a message you might get from a supportive friend. It did not shame or guilt the choice, which made it feel realistic and kind.\n",
    "\n",
    "## Prompt 2: “Can you check in on me tomorrow and remind me to move”\n",
    "\n",
    "**Response:**  \n",
    "I cannot send real time reminders, but I can help you set one. You can also ask me to plan a short workout now so you have it ready tomorrow. If you want, I can write a little motivational message you can copy into your phone as a reminder.\n",
    "\n",
    "**Analysis:**  \n",
    "This showed the model’s limits in a helpful way. It could not send a push notification, but it still offered support. The idea to create your own message ahead of time felt useful. It turned a limitation into a workaround.\n",
    "\n",
    "## Prompt 3: “Celebrate my win. I finished four workouts this week”\n",
    "\n",
    "**Response:**  \n",
    "That is amazing. Four workouts is no joke. It shows consistency, effort, and real focus. Be proud of yourself. Progress is built one day at a time and you are clearly building something great.\n",
    "\n",
    "**Analysis:**  \n",
    "This answer was positive and personal. It did not just say good job — it explained why the win matters. That kind of affirmation is exactly what people look for in a gym buddy.\n",
    "\n",
    "## Conclusion\n",
    "\n",
    "GPT4 can be a decent virtual gym buddy if you are looking for motivation, reflection, or low pressure check ins. It cannot text you at 7am or meet you at the treadmill, but it can cheer you on and help you plan. If you treat it like a tool for consistency rather than a coach, it can absolutely help you keep going."
   ]
  }
 ],
 "metadata": {
  "kernelspec": {
   "display_name": "Python 3 (ipykernel)",
   "language": "python",
   "name": "python3"
  },
  "language_info": {
   "codemirror_mode": {
    "name": "ipython",
    "version": 3
   },
   "file_extension": ".py",
   "mimetype": "text/x-python",
   "name": "python",
   "nbconvert_exporter": "python",
   "pygments_lexer": "ipython3",
   "version": "3.10.12"
  }
 },
 "nbformat": 4,
 "nbformat_minor": 5
}
